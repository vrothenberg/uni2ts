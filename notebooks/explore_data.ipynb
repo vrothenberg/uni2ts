{
 "cells": [
  {
   "cell_type": "code",
   "execution_count": 1,
   "id": "34718e0c",
   "metadata": {},
   "outputs": [
    {
     "data": {
      "text/plain": [
       "polars.config.Config"
      ]
     },
     "execution_count": 1,
     "metadata": {},
     "output_type": "execute_result"
    }
   ],
   "source": [
    "# Cell 1: Imports and display configuration\n",
    "from pathlib import Path\n",
    "from datetime import datetime\n",
    "import polars as pl\n",
    "import pandas as pd\n",
    "import matplotlib.pyplot as plt\n",
    "\n",
    "# High DPI figures in notebooks\n",
    "%config InlineBackend.figure_format = 'retina'\n",
    "\n",
    "pl.Config.set_tbl_rows(25)\n",
    "pl.Config.set_tbl_cols(200)\n"
   ]
  },
  {
   "cell_type": "code",
   "execution_count": 2,
   "id": "76418ac3",
   "metadata": {},
   "outputs": [],
   "source": [
    "# Cell 2: Parameters\n",
    "LAKE_ROOT = Path(\"/home/dev/data/ohlcv\")\n",
    "\n",
    "asset_class = \"crypto\"   # one of: crypto, fx, index, etf, equity, futures\n",
    "symbol = \"ETH\"           # e.g., ETH, BTC, USDJPY, SPY, AAPL\n",
    "freq = \"15min\"           # one of: 1min, 15min, 1h, 4h, 1d\n",
    "\n",
    "# Optional partition narrowing\n",
    "year = 2025              # set to None to read all years\n",
    "month = 7                # set to None to read all months\n",
    "\n",
    "# Optional lazy-scan date filter window (UTC)\n",
    "date_start = pd.Timestamp(\"2024-01-01\", tz=\"UTC\")\n",
    "date_end   = pd.Timestamp(\"2024-04-01\", tz=\"UTC\")\n"
   ]
  },
  {
   "cell_type": "code",
   "execution_count": 13,
   "id": "f504f82f",
   "metadata": {},
   "outputs": [],
   "source": [
    "# Drop-in replacement for read_parquet_hive (Polars-friendly)\n",
    "from pathlib import Path\n",
    "from typing import Union, Optional, Any, List\n",
    "import polars as pl\n",
    "\n",
    "def read_parquet_hive(\n",
    "    root_path: Union[str, Path],\n",
    "    *,\n",
    "    asset_class: str,\n",
    "    symbol: str,\n",
    "    freq: str,\n",
    "    year: Optional[int] = None,\n",
    "    month: Optional[int] = None,\n",
    "    columns: Optional[List[str]] = None,\n",
    "    **kwargs: Any,\n",
    ") -> pl.DataFrame:\n",
    "    \"\"\"\n",
    "    Reads OHLCV data from a hive-partitioned Parquet lake with Polars.\n",
    "    Ensures `ts` is timezone-aware in UTC and places it as the first column.\n",
    "    \"\"\"\n",
    "    base_path = Path(root_path) / f\"asset_class={asset_class}\" / f\"freq={freq}\" / f\"symbol={symbol}\"\n",
    "\n",
    "    # Build path pattern\n",
    "    if year is not None and month is not None:\n",
    "        search_path = base_path / f\"year={year}\" / f\"month={month:02d}\"\n",
    "    elif year is not None:\n",
    "        search_path = base_path / f\"year={year}\"\n",
    "    else:\n",
    "        search_path = base_path\n",
    "\n",
    "    # Always include ts if columns filtering was requested\n",
    "    read_cols = columns\n",
    "    if read_cols is not None and \"ts\" not in read_cols:\n",
    "        read_cols = [\"ts\"] + [c for c in read_cols]\n",
    "\n",
    "    df = pl.read_parquet(\n",
    "        str(search_path),\n",
    "        hive_partitioning=True,\n",
    "        columns=read_cols,\n",
    "        **kwargs,\n",
    "    )\n",
    "\n",
    "    if \"ts\" in df.columns:\n",
    "        ts_dtype = df.schema[\"ts\"]\n",
    "        dtype_name = ts_dtype.__class__.__name__  # \"Utf8\" or \"Datetime\", etc.\n",
    "\n",
    "        if dtype_name == \"Utf8\":\n",
    "            # Parse strings to timezone-aware UTC\n",
    "            df = df.with_columns(\n",
    "                pl.col(\"ts\").str.to_datetime(time_zone=\"UTC\", strict=False)\n",
    "            )\n",
    "        elif dtype_name == \"Datetime\":\n",
    "            # Determine if tz is set on the dtype\n",
    "            tz = getattr(ts_dtype, \"time_zone\", None)\n",
    "            if tz is None:\n",
    "                # Naive -> mark as UTC\n",
    "                df = df.with_columns(pl.col(\"ts\").dt.replace_time_zone(\"UTC\"))\n",
    "            elif tz != \"UTC\":\n",
    "                # Convert to UTC if needed\n",
    "                df = df.with_columns(pl.col(\"ts\").dt.convert_time_zone(\"UTC\"))\n",
    "        else:\n",
    "            # Unexpected type: make a best-effort parse to UTC\n",
    "            df = df.with_columns(\n",
    "                pl.col(\"ts\").cast(pl.Utf8).str.to_datetime(time_zone=\"UTC\", strict=False)\n",
    "            )\n",
    "\n",
    "        # Put ts first without Pandas ops\n",
    "        if df.columns[0] != \"ts\":\n",
    "            df = df.select([\"ts\"] + [c for c in df.columns if c != \"ts\"])\n",
    "\n",
    "    # Require OHLC; treat volume as optional since some indices may lack it\n",
    "    required = {\"open\", \"high\", \"low\", \"close\"}\n",
    "    missing = required.difference(df.columns)\n",
    "    if missing:\n",
    "        raise ValueError(f\"Missing OHLC columns in loaded data: {', '.join(sorted(missing))}\")\n",
    "\n",
    "    return df\n"
   ]
  },
  {
   "cell_type": "code",
   "execution_count": 14,
   "id": "42d85d13",
   "metadata": {},
   "outputs": [
    {
     "data": {
      "text/html": [
       "<div><style>\n",
       ".dataframe > thead > tr,\n",
       ".dataframe > tbody > tr {\n",
       "  text-align: right;\n",
       "  white-space: pre-wrap;\n",
       "}\n",
       "</style>\n",
       "<small>shape: (5, 8)</small><table border=\"1\" class=\"dataframe\"><thead><tr><th>ts</th><th>open</th><th>high</th><th>low</th><th>close</th><th>volume</th><th>asset_class</th><th>symbol</th></tr><tr><td>datetime[μs, UTC]</td><td>f64</td><td>f64</td><td>f64</td><td>f64</td><td>f64</td><td>str</td><td>str</td></tr></thead><tbody><tr><td>2025-07-01 00:00:00 UTC</td><td>2486.16</td><td>2496.4</td><td>2485.38</td><td>2493.36</td><td>1151.93403</td><td>&quot;crypto&quot;</td><td>&quot;ETH&quot;</td></tr><tr><td>2025-07-01 00:15:00 UTC</td><td>2493.43</td><td>2498.5</td><td>2485.0</td><td>2485.15</td><td>650.784791</td><td>&quot;crypto&quot;</td><td>&quot;ETH&quot;</td></tr><tr><td>2025-07-01 00:30:00 UTC</td><td>2485.25</td><td>2490.5</td><td>2477.72</td><td>2489.4</td><td>1360.341981</td><td>&quot;crypto&quot;</td><td>&quot;ETH&quot;</td></tr><tr><td>2025-07-01 00:45:00 UTC</td><td>2489.47</td><td>2496.2</td><td>2489.3</td><td>2493.94</td><td>592.136844</td><td>&quot;crypto&quot;</td><td>&quot;ETH&quot;</td></tr><tr><td>2025-07-01 01:00:00 UTC</td><td>2493.89</td><td>2499.9</td><td>2491.0</td><td>2499.36</td><td>685.831934</td><td>&quot;crypto&quot;</td><td>&quot;ETH&quot;</td></tr></tbody></table></div>"
      ],
      "text/plain": [
       "shape: (5, 8)\n",
       "┌──────────────────────┬─────────┬────────┬─────────┬─────────┬─────────────┬─────────────┬────────┐\n",
       "│ ts                   ┆ open    ┆ high   ┆ low     ┆ close   ┆ volume      ┆ asset_class ┆ symbol │\n",
       "│ ---                  ┆ ---     ┆ ---    ┆ ---     ┆ ---     ┆ ---         ┆ ---         ┆ ---    │\n",
       "│ datetime[μs, UTC]    ┆ f64     ┆ f64    ┆ f64     ┆ f64     ┆ f64         ┆ str         ┆ str    │\n",
       "╞══════════════════════╪═════════╪════════╪═════════╪═════════╪═════════════╪═════════════╪════════╡\n",
       "│ 2025-07-01 00:00:00  ┆ 2486.16 ┆ 2496.4 ┆ 2485.38 ┆ 2493.36 ┆ 1151.93403  ┆ crypto      ┆ ETH    │\n",
       "│ UTC                  ┆         ┆        ┆         ┆         ┆             ┆             ┆        │\n",
       "│ 2025-07-01 00:15:00  ┆ 2493.43 ┆ 2498.5 ┆ 2485.0  ┆ 2485.15 ┆ 650.784791  ┆ crypto      ┆ ETH    │\n",
       "│ UTC                  ┆         ┆        ┆         ┆         ┆             ┆             ┆        │\n",
       "│ 2025-07-01 00:30:00  ┆ 2485.25 ┆ 2490.5 ┆ 2477.72 ┆ 2489.4  ┆ 1360.341981 ┆ crypto      ┆ ETH    │\n",
       "│ UTC                  ┆         ┆        ┆         ┆         ┆             ┆             ┆        │\n",
       "│ 2025-07-01 00:45:00  ┆ 2489.47 ┆ 2496.2 ┆ 2489.3  ┆ 2493.94 ┆ 592.136844  ┆ crypto      ┆ ETH    │\n",
       "│ UTC                  ┆         ┆        ┆         ┆         ┆             ┆             ┆        │\n",
       "│ 2025-07-01 01:00:00  ┆ 2493.89 ┆ 2499.9 ┆ 2491.0  ┆ 2499.36 ┆ 685.831934  ┆ crypto      ┆ ETH    │\n",
       "│ UTC                  ┆         ┆        ┆         ┆         ┆             ┆             ┆        │\n",
       "└──────────────────────┴─────────┴────────┴─────────┴─────────┴─────────────┴─────────────┴────────┘"
      ]
     },
     "execution_count": 14,
     "metadata": {},
     "output_type": "execute_result"
    }
   ],
   "source": [
    "# Cell 4: Load a partition and sort\n",
    "df = read_parquet_hive(\n",
    "    LAKE_ROOT,\n",
    "    asset_class=asset_class,\n",
    "    symbol=symbol,\n",
    "    freq=freq,\n",
    "    year=year,\n",
    "    month=month,\n",
    ")\n",
    "df = df.sort(\"ts\")\n",
    "\n",
    "df.head()\n"
   ]
  },
  {
   "cell_type": "code",
   "execution_count": 10,
   "id": "a279b532",
   "metadata": {},
   "outputs": [
    {
     "data": {
      "text/plain": [
       "Schema([('ts', Datetime(time_unit='us', time_zone='UTC')),\n",
       "        ('open', Float64),\n",
       "        ('high', Float64),\n",
       "        ('low', Float64),\n",
       "        ('close', Float64),\n",
       "        ('volume', Float64),\n",
       "        ('asset_class', String),\n",
       "        ('symbol', String),\n",
       "        ('freq', String),\n",
       "        ('year', Int64),\n",
       "        ('month', Int64)])"
      ]
     },
     "metadata": {},
     "output_type": "display_data"
    }
   ],
   "source": [
    "# Inspect the ts dtype quickly\n",
    "tmp = pl.read_parquet(\n",
    "    str(Path(LAKE_ROOT) / f\"asset_class={asset_class}\" / f\"freq={freq}\" / f\"symbol={symbol}\" / \"year=*\" / \"month=*\" / \"part.parquet\"),\n",
    "    hive_partitioning=True,\n",
    "    n_rows=5,  # small sniff\n",
    ")\n",
    "display(tmp.schema)  # dict: column -> dtype\n"
   ]
  },
  {
   "cell_type": "code",
   "execution_count": 15,
   "id": "560c7b93",
   "metadata": {},
   "outputs": [
    {
     "data": {
      "text/html": [
       "<div><style>\n",
       ".dataframe > thead > tr,\n",
       ".dataframe > tbody > tr {\n",
       "  text-align: right;\n",
       "  white-space: pre-wrap;\n",
       "}\n",
       "</style>\n",
       "<small>shape: (1, 3)</small><table border=\"1\" class=\"dataframe\"><thead><tr><th>rows</th><th>from_ts</th><th>to_ts</th></tr><tr><td>i64</td><td>datetime[μs, UTC]</td><td>datetime[μs, UTC]</td></tr></thead><tbody><tr><td>2496</td><td>2025-07-01 00:00:00 UTC</td><td>2025-07-26 23:45:00 UTC</td></tr></tbody></table></div>"
      ],
      "text/plain": [
       "shape: (1, 3)\n",
       "┌──────┬─────────────────────────┬─────────────────────────┐\n",
       "│ rows ┆ from_ts                 ┆ to_ts                   │\n",
       "│ ---  ┆ ---                     ┆ ---                     │\n",
       "│ i64  ┆ datetime[μs, UTC]       ┆ datetime[μs, UTC]       │\n",
       "╞══════╪═════════════════════════╪═════════════════════════╡\n",
       "│ 2496 ┆ 2025-07-01 00:00:00 UTC ┆ 2025-07-26 23:45:00 UTC │\n",
       "└──────┴─────────────────────────┴─────────────────────────┘"
      ]
     },
     "execution_count": 15,
     "metadata": {},
     "output_type": "execute_result"
    }
   ],
   "source": [
    "# Cell 5: Basic profile\n",
    "profile_tbl = pl.DataFrame(\n",
    "    {\n",
    "        \"rows\": [df.height],\n",
    "        \"from_ts\": [df.get_column(\"ts\").min()],\n",
    "        \"to_ts\": [df.get_column(\"ts\").max()],\n",
    "    }\n",
    ")\n",
    "profile_tbl\n"
   ]
  },
  {
   "cell_type": "code",
   "execution_count": 16,
   "id": "f7d110e1",
   "metadata": {},
   "outputs": [
    {
     "data": {
      "text/html": [
       "<div><style>\n",
       ".dataframe > thead > tr,\n",
       ".dataframe > tbody > tr {\n",
       "  text-align: right;\n",
       "  white-space: pre-wrap;\n",
       "}\n",
       "</style>\n",
       "<small>shape: (1, 5)</small><table border=\"1\" class=\"dataframe\"><thead><tr><th>open</th><th>high</th><th>low</th><th>close</th><th>volume</th></tr><tr><td>u32</td><td>u32</td><td>u32</td><td>u32</td><td>u32</td></tr></thead><tbody><tr><td>0</td><td>0</td><td>0</td><td>0</td><td>0</td></tr></tbody></table></div>"
      ],
      "text/plain": [
       "shape: (1, 5)\n",
       "┌──────┬──────┬─────┬───────┬────────┐\n",
       "│ open ┆ high ┆ low ┆ close ┆ volume │\n",
       "│ ---  ┆ ---  ┆ --- ┆ ---   ┆ ---    │\n",
       "│ u32  ┆ u32  ┆ u32 ┆ u32   ┆ u32    │\n",
       "╞══════╪══════╪═════╪═══════╪════════╡\n",
       "│ 0    ┆ 0    ┆ 0   ┆ 0     ┆ 0      │\n",
       "└──────┴──────┴─────┴───────┴────────┘"
      ]
     },
     "execution_count": 16,
     "metadata": {},
     "output_type": "execute_result"
    }
   ],
   "source": [
    "# Cell 6: Null counts for OHLCV\n",
    "null_counts = df.select(\n",
    "    [pl.col(c).is_null().sum().alias(c) for c in [\"open\", \"high\", \"low\", \"close\", \"volume\"]]\n",
    ")\n",
    "null_counts\n"
   ]
  },
  {
   "cell_type": "code",
   "execution_count": 17,
   "id": "b08608a8",
   "metadata": {},
   "outputs": [
    {
     "data": {
      "text/html": [
       "<div><style>\n",
       ".dataframe > thead > tr,\n",
       ".dataframe > tbody > tr {\n",
       "  text-align: right;\n",
       "  white-space: pre-wrap;\n",
       "}\n",
       "</style>\n",
       "<small>shape: (8, 2)</small><table border=\"1\" class=\"dataframe\"><thead><tr><th>column</th><th>dtype</th></tr><tr><td>str</td><td>str</td></tr></thead><tbody><tr><td>&quot;ts&quot;</td><td>&quot;Datetime(time_unit=&#x27;us&#x27;, time_…</td></tr><tr><td>&quot;open&quot;</td><td>&quot;Float64&quot;</td></tr><tr><td>&quot;high&quot;</td><td>&quot;Float64&quot;</td></tr><tr><td>&quot;low&quot;</td><td>&quot;Float64&quot;</td></tr><tr><td>&quot;close&quot;</td><td>&quot;Float64&quot;</td></tr><tr><td>&quot;volume&quot;</td><td>&quot;Float64&quot;</td></tr><tr><td>&quot;asset_class&quot;</td><td>&quot;String&quot;</td></tr><tr><td>&quot;symbol&quot;</td><td>&quot;String&quot;</td></tr></tbody></table></div>"
      ],
      "text/plain": [
       "shape: (8, 2)\n",
       "┌─────────────┬─────────────────────────────────┐\n",
       "│ column      ┆ dtype                           │\n",
       "│ ---         ┆ ---                             │\n",
       "│ str         ┆ str                             │\n",
       "╞═════════════╪═════════════════════════════════╡\n",
       "│ ts          ┆ Datetime(time_unit='us', time_… │\n",
       "│ open        ┆ Float64                         │\n",
       "│ high        ┆ Float64                         │\n",
       "│ low         ┆ Float64                         │\n",
       "│ close       ┆ Float64                         │\n",
       "│ volume      ┆ Float64                         │\n",
       "│ asset_class ┆ String                          │\n",
       "│ symbol      ┆ String                          │\n",
       "└─────────────┴─────────────────────────────────┘"
      ]
     },
     "execution_count": 17,
     "metadata": {},
     "output_type": "execute_result"
    }
   ],
   "source": [
    "# Cell 7: Schema snapshot\n",
    "schema_tbl = pl.DataFrame(\n",
    "    {\"column\": df.columns, \"dtype\": [str(t) for t in df.dtypes]}\n",
    ")\n",
    "schema_tbl\n"
   ]
  },
  {
   "cell_type": "code",
   "execution_count": 18,
   "id": "17e5198a",
   "metadata": {},
   "outputs": [
    {
     "data": {
      "text/html": [
       "<div><style>\n",
       ".dataframe > thead > tr,\n",
       ".dataframe > tbody > tr {\n",
       "  text-align: right;\n",
       "  white-space: pre-wrap;\n",
       "}\n",
       "</style>\n",
       "<small>shape: (0, 8)</small><table border=\"1\" class=\"dataframe\"><thead><tr><th>ts</th><th>open</th><th>high</th><th>low</th><th>close</th><th>volume</th><th>asset_class</th><th>symbol</th></tr><tr><td>datetime[μs, UTC]</td><td>f64</td><td>f64</td><td>f64</td><td>f64</td><td>f64</td><td>str</td><td>str</td></tr></thead><tbody></tbody></table></div>"
      ],
      "text/plain": [
       "shape: (0, 8)\n",
       "┌───────────────────┬──────┬──────┬─────┬───────┬────────┬─────────────┬────────┐\n",
       "│ ts                ┆ open ┆ high ┆ low ┆ close ┆ volume ┆ asset_class ┆ symbol │\n",
       "│ ---               ┆ ---  ┆ ---  ┆ --- ┆ ---   ┆ ---    ┆ ---         ┆ ---    │\n",
       "│ datetime[μs, UTC] ┆ f64  ┆ f64  ┆ f64 ┆ f64   ┆ f64    ┆ str         ┆ str    │\n",
       "╞═══════════════════╪══════╪══════╪═════╪═══════╪════════╪═════════════╪════════╡\n",
       "└───────────────────┴──────┴──────┴─────┴───────┴────────┴─────────────┴────────┘"
      ]
     },
     "execution_count": 18,
     "metadata": {},
     "output_type": "execute_result"
    }
   ],
   "source": [
    "# Cell 8: Sanity checks for OHLCV constraints\n",
    "violations = df.filter(\n",
    "    (pl.col(\"low\") > pl.col(\"high\"))\n",
    "    | (pl.max_horizontal(\"open\", \"close\") > pl.col(\"high\"))\n",
    "    | (pl.min_horizontal(\"open\", \"close\") < pl.col(\"low\"))\n",
    "    | (pl.col(\"open\") <= 0)\n",
    "    | (pl.col(\"high\") <= 0)\n",
    "    | (pl.col(\"low\") <= 0)\n",
    "    | (pl.col(\"close\") <= 0)\n",
    "    | (pl.col(\"volume\") < 0)\n",
    ")\n",
    "violations.head(20)\n"
   ]
  },
  {
   "cell_type": "code",
   "execution_count": 19,
   "id": "f7e3f7be",
   "metadata": {},
   "outputs": [
    {
     "data": {
      "text/html": [
       "<div><style>\n",
       ".dataframe > thead > tr,\n",
       ".dataframe > tbody > tr {\n",
       "  text-align: right;\n",
       "  white-space: pre-wrap;\n",
       "}\n",
       "</style>\n",
       "<small>shape: (0, 2)</small><table border=\"1\" class=\"dataframe\"><thead><tr><th>ts</th><th>len</th></tr><tr><td>datetime[μs, UTC]</td><td>u32</td></tr></thead><tbody></tbody></table></div>"
      ],
      "text/plain": [
       "shape: (0, 2)\n",
       "┌───────────────────┬─────┐\n",
       "│ ts                ┆ len │\n",
       "│ ---               ┆ --- │\n",
       "│ datetime[μs, UTC] ┆ u32 │\n",
       "╞═══════════════════╪═════╡\n",
       "└───────────────────┴─────┘"
      ]
     },
     "execution_count": 19,
     "metadata": {},
     "output_type": "execute_result"
    }
   ],
   "source": [
    "# Cell 9: Duplicate timestamp check\n",
    "dupes = (\n",
    "    df.group_by(\"ts\")\n",
    "      .len()\n",
    "      .filter(pl.col(\"len\") > 1)\n",
    "      .sort(\"len\", descending=True)\n",
    ")\n",
    "dupes.head(20)\n"
   ]
  },
  {
   "cell_type": "code",
   "execution_count": 20,
   "id": "30df4e28",
   "metadata": {},
   "outputs": [
    {
     "data": {
      "text/html": [
       "<div><style>\n",
       ".dataframe > thead > tr,\n",
       ".dataframe > tbody > tr {\n",
       "  text-align: right;\n",
       "  white-space: pre-wrap;\n",
       "}\n",
       "</style>\n",
       "<small>shape: (25, 4)</small><table border=\"1\" class=\"dataframe\"><thead><tr><th>ts</th><th>prev_ts</th><th>delta_s</th><th>gap_factor</th></tr><tr><td>datetime[μs, UTC]</td><td>datetime[μs, UTC]</td><td>i64</td><td>f64</td></tr></thead><tbody><tr><td>2025-07-01 00:00:00 UTC</td><td>null</td><td>null</td><td>null</td></tr><tr><td>2025-07-01 00:15:00 UTC</td><td>2025-07-01 00:00:00 UTC</td><td>900</td><td>1.0</td></tr><tr><td>2025-07-01 00:30:00 UTC</td><td>2025-07-01 00:15:00 UTC</td><td>900</td><td>1.0</td></tr><tr><td>2025-07-01 00:45:00 UTC</td><td>2025-07-01 00:30:00 UTC</td><td>900</td><td>1.0</td></tr><tr><td>2025-07-01 01:00:00 UTC</td><td>2025-07-01 00:45:00 UTC</td><td>900</td><td>1.0</td></tr><tr><td>2025-07-01 01:15:00 UTC</td><td>2025-07-01 01:00:00 UTC</td><td>900</td><td>1.0</td></tr><tr><td>2025-07-01 01:30:00 UTC</td><td>2025-07-01 01:15:00 UTC</td><td>900</td><td>1.0</td></tr><tr><td>2025-07-01 01:45:00 UTC</td><td>2025-07-01 01:30:00 UTC</td><td>900</td><td>1.0</td></tr><tr><td>2025-07-01 02:00:00 UTC</td><td>2025-07-01 01:45:00 UTC</td><td>900</td><td>1.0</td></tr><tr><td>2025-07-01 02:15:00 UTC</td><td>2025-07-01 02:00:00 UTC</td><td>900</td><td>1.0</td></tr><tr><td>2025-07-01 02:30:00 UTC</td><td>2025-07-01 02:15:00 UTC</td><td>900</td><td>1.0</td></tr><tr><td>2025-07-01 02:45:00 UTC</td><td>2025-07-01 02:30:00 UTC</td><td>900</td><td>1.0</td></tr><tr><td>2025-07-01 03:00:00 UTC</td><td>2025-07-01 02:45:00 UTC</td><td>900</td><td>1.0</td></tr><tr><td>2025-07-01 03:15:00 UTC</td><td>2025-07-01 03:00:00 UTC</td><td>900</td><td>1.0</td></tr><tr><td>2025-07-01 03:30:00 UTC</td><td>2025-07-01 03:15:00 UTC</td><td>900</td><td>1.0</td></tr><tr><td>2025-07-01 03:45:00 UTC</td><td>2025-07-01 03:30:00 UTC</td><td>900</td><td>1.0</td></tr><tr><td>2025-07-01 04:00:00 UTC</td><td>2025-07-01 03:45:00 UTC</td><td>900</td><td>1.0</td></tr><tr><td>2025-07-01 04:15:00 UTC</td><td>2025-07-01 04:00:00 UTC</td><td>900</td><td>1.0</td></tr><tr><td>2025-07-01 04:30:00 UTC</td><td>2025-07-01 04:15:00 UTC</td><td>900</td><td>1.0</td></tr><tr><td>2025-07-01 04:45:00 UTC</td><td>2025-07-01 04:30:00 UTC</td><td>900</td><td>1.0</td></tr><tr><td>2025-07-01 05:00:00 UTC</td><td>2025-07-01 04:45:00 UTC</td><td>900</td><td>1.0</td></tr><tr><td>2025-07-01 05:15:00 UTC</td><td>2025-07-01 05:00:00 UTC</td><td>900</td><td>1.0</td></tr><tr><td>2025-07-01 05:30:00 UTC</td><td>2025-07-01 05:15:00 UTC</td><td>900</td><td>1.0</td></tr><tr><td>2025-07-01 05:45:00 UTC</td><td>2025-07-01 05:30:00 UTC</td><td>900</td><td>1.0</td></tr><tr><td>2025-07-01 06:00:00 UTC</td><td>2025-07-01 05:45:00 UTC</td><td>900</td><td>1.0</td></tr></tbody></table></div>"
      ],
      "text/plain": [
       "shape: (25, 4)\n",
       "┌─────────────────────────┬─────────────────────────┬─────────┬────────────┐\n",
       "│ ts                      ┆ prev_ts                 ┆ delta_s ┆ gap_factor │\n",
       "│ ---                     ┆ ---                     ┆ ---     ┆ ---        │\n",
       "│ datetime[μs, UTC]       ┆ datetime[μs, UTC]       ┆ i64     ┆ f64        │\n",
       "╞═════════════════════════╪═════════════════════════╪═════════╪════════════╡\n",
       "│ 2025-07-01 00:00:00 UTC ┆ null                    ┆ null    ┆ null       │\n",
       "│ 2025-07-01 00:15:00 UTC ┆ 2025-07-01 00:00:00 UTC ┆ 900     ┆ 1.0        │\n",
       "│ 2025-07-01 00:30:00 UTC ┆ 2025-07-01 00:15:00 UTC ┆ 900     ┆ 1.0        │\n",
       "│ 2025-07-01 00:45:00 UTC ┆ 2025-07-01 00:30:00 UTC ┆ 900     ┆ 1.0        │\n",
       "│ 2025-07-01 01:00:00 UTC ┆ 2025-07-01 00:45:00 UTC ┆ 900     ┆ 1.0        │\n",
       "│ 2025-07-01 01:15:00 UTC ┆ 2025-07-01 01:00:00 UTC ┆ 900     ┆ 1.0        │\n",
       "│ 2025-07-01 01:30:00 UTC ┆ 2025-07-01 01:15:00 UTC ┆ 900     ┆ 1.0        │\n",
       "│ 2025-07-01 01:45:00 UTC ┆ 2025-07-01 01:30:00 UTC ┆ 900     ┆ 1.0        │\n",
       "│ 2025-07-01 02:00:00 UTC ┆ 2025-07-01 01:45:00 UTC ┆ 900     ┆ 1.0        │\n",
       "│ 2025-07-01 02:15:00 UTC ┆ 2025-07-01 02:00:00 UTC ┆ 900     ┆ 1.0        │\n",
       "│ 2025-07-01 02:30:00 UTC ┆ 2025-07-01 02:15:00 UTC ┆ 900     ┆ 1.0        │\n",
       "│ 2025-07-01 02:45:00 UTC ┆ 2025-07-01 02:30:00 UTC ┆ 900     ┆ 1.0        │\n",
       "│ 2025-07-01 03:00:00 UTC ┆ 2025-07-01 02:45:00 UTC ┆ 900     ┆ 1.0        │\n",
       "│ 2025-07-01 03:15:00 UTC ┆ 2025-07-01 03:00:00 UTC ┆ 900     ┆ 1.0        │\n",
       "│ 2025-07-01 03:30:00 UTC ┆ 2025-07-01 03:15:00 UTC ┆ 900     ┆ 1.0        │\n",
       "│ 2025-07-01 03:45:00 UTC ┆ 2025-07-01 03:30:00 UTC ┆ 900     ┆ 1.0        │\n",
       "│ 2025-07-01 04:00:00 UTC ┆ 2025-07-01 03:45:00 UTC ┆ 900     ┆ 1.0        │\n",
       "│ 2025-07-01 04:15:00 UTC ┆ 2025-07-01 04:00:00 UTC ┆ 900     ┆ 1.0        │\n",
       "│ 2025-07-01 04:30:00 UTC ┆ 2025-07-01 04:15:00 UTC ┆ 900     ┆ 1.0        │\n",
       "│ 2025-07-01 04:45:00 UTC ┆ 2025-07-01 04:30:00 UTC ┆ 900     ┆ 1.0        │\n",
       "│ 2025-07-01 05:00:00 UTC ┆ 2025-07-01 04:45:00 UTC ┆ 900     ┆ 1.0        │\n",
       "│ 2025-07-01 05:15:00 UTC ┆ 2025-07-01 05:00:00 UTC ┆ 900     ┆ 1.0        │\n",
       "│ 2025-07-01 05:30:00 UTC ┆ 2025-07-01 05:15:00 UTC ┆ 900     ┆ 1.0        │\n",
       "│ 2025-07-01 05:45:00 UTC ┆ 2025-07-01 05:30:00 UTC ┆ 900     ┆ 1.0        │\n",
       "│ 2025-07-01 06:00:00 UTC ┆ 2025-07-01 05:45:00 UTC ┆ 900     ┆ 1.0        │\n",
       "└─────────────────────────┴─────────────────────────┴─────────┴────────────┘"
      ]
     },
     "execution_count": 20,
     "metadata": {},
     "output_type": "execute_result"
    }
   ],
   "source": [
    "# Cell 10: Largest gaps between rows\n",
    "step_seconds_map = {\"1min\": 60, \"15min\": 900, \"1h\": 3600, \"4h\": 14400, \"1d\": 86400}\n",
    "expected_step = step_seconds_map.get(freq)\n",
    "\n",
    "gaps = (\n",
    "    df.select(\"ts\")\n",
    "      .with_columns(prev_ts=pl.col(\"ts\").shift(1))\n",
    "      .with_columns(delta_s=(pl.col(\"ts\") - pl.col(\"prev_ts\")).dt.total_seconds())\n",
    "      .sort(\"delta_s\", descending=True)\n",
    ")\n",
    "\n",
    "if expected_step is not None:\n",
    "    gaps = gaps.with_columns(gap_factor=(pl.col(\"delta_s\") / expected_step))\n",
    "\n",
    "gaps.head(25)\n"
   ]
  },
  {
   "cell_type": "code",
   "execution_count": 21,
   "id": "ef88595c",
   "metadata": {},
   "outputs": [
    {
     "data": {
      "text/html": [
       "<div><style>\n",
       ".dataframe > thead > tr,\n",
       ".dataframe > tbody > tr {\n",
       "  text-align: right;\n",
       "  white-space: pre-wrap;\n",
       "}\n",
       "</style>\n",
       "<small>shape: (5, 11)</small><table border=\"1\" class=\"dataframe\"><thead><tr><th>ts</th><th>open</th><th>high</th><th>low</th><th>close</th><th>volume</th><th>asset_class</th><th>symbol</th><th>freq</th><th>year</th><th>month</th></tr><tr><td>datetime[μs, UTC]</td><td>f64</td><td>f64</td><td>f64</td><td>f64</td><td>f64</td><td>str</td><td>str</td><td>str</td><td>i64</td><td>i64</td></tr></thead><tbody><tr><td>2024-01-01 00:00:00 UTC</td><td>2282.17</td><td>2299.49</td><td>2281.27</td><td>2296.54</td><td>1462.727767</td><td>&quot;crypto&quot;</td><td>&quot;ETH&quot;</td><td>&quot;15min&quot;</td><td>2024</td><td>1</td></tr><tr><td>2024-01-01 00:15:00 UTC</td><td>2297.0</td><td>2297.5</td><td>2280.62</td><td>2290.56</td><td>3102.885862</td><td>&quot;crypto&quot;</td><td>&quot;ETH&quot;</td><td>&quot;15min&quot;</td><td>2024</td><td>1</td></tr><tr><td>2024-01-01 00:30:00 UTC</td><td>2290.87</td><td>2296.45</td><td>2285.39</td><td>2293.44</td><td>1720.700805</td><td>&quot;crypto&quot;</td><td>&quot;ETH&quot;</td><td>&quot;15min&quot;</td><td>2024</td><td>1</td></tr><tr><td>2024-01-01 00:45:00 UTC</td><td>2293.4</td><td>2300.15</td><td>2292.17</td><td>2295.6</td><td>486.115193</td><td>&quot;crypto&quot;</td><td>&quot;ETH&quot;</td><td>&quot;15min&quot;</td><td>2024</td><td>1</td></tr><tr><td>2024-01-01 01:00:00 UTC</td><td>2295.57</td><td>2300.95</td><td>2292.08</td><td>2296.77</td><td>720.149303</td><td>&quot;crypto&quot;</td><td>&quot;ETH&quot;</td><td>&quot;15min&quot;</td><td>2024</td><td>1</td></tr></tbody></table></div>"
      ],
      "text/plain": [
       "shape: (5, 11)\n",
       "┌─────────┬─────────┬─────────┬─────────┬────────┬────────┬────────┬────────┬───────┬──────┬───────┐\n",
       "│ ts      ┆ open    ┆ high    ┆ low     ┆ close  ┆ volume ┆ asset_ ┆ symbol ┆ freq  ┆ year ┆ month │\n",
       "│ ---     ┆ ---     ┆ ---     ┆ ---     ┆ ---    ┆ ---    ┆ class  ┆ ---    ┆ ---   ┆ ---  ┆ ---   │\n",
       "│ datetim ┆ f64     ┆ f64     ┆ f64     ┆ f64    ┆ f64    ┆ ---    ┆ str    ┆ str   ┆ i64  ┆ i64   │\n",
       "│ e[μs,   ┆         ┆         ┆         ┆        ┆        ┆ str    ┆        ┆       ┆      ┆       │\n",
       "│ UTC]    ┆         ┆         ┆         ┆        ┆        ┆        ┆        ┆       ┆      ┆       │\n",
       "╞═════════╪═════════╪═════════╪═════════╪════════╪════════╪════════╪════════╪═══════╪══════╪═══════╡\n",
       "│ 2024-01 ┆ 2282.17 ┆ 2299.49 ┆ 2281.27 ┆ 2296.5 ┆ 1462.7 ┆ crypto ┆ ETH    ┆ 15min ┆ 2024 ┆ 1     │\n",
       "│ -01 00: ┆         ┆         ┆         ┆ 4      ┆ 27767  ┆        ┆        ┆       ┆      ┆       │\n",
       "│ 00:00   ┆         ┆         ┆         ┆        ┆        ┆        ┆        ┆       ┆      ┆       │\n",
       "│ UTC     ┆         ┆         ┆         ┆        ┆        ┆        ┆        ┆       ┆      ┆       │\n",
       "│ 2024-01 ┆ 2297.0  ┆ 2297.5  ┆ 2280.62 ┆ 2290.5 ┆ 3102.8 ┆ crypto ┆ ETH    ┆ 15min ┆ 2024 ┆ 1     │\n",
       "│ -01 00: ┆         ┆         ┆         ┆ 6      ┆ 85862  ┆        ┆        ┆       ┆      ┆       │\n",
       "│ 15:00   ┆         ┆         ┆         ┆        ┆        ┆        ┆        ┆       ┆      ┆       │\n",
       "│ UTC     ┆         ┆         ┆         ┆        ┆        ┆        ┆        ┆       ┆      ┆       │\n",
       "│ 2024-01 ┆ 2290.87 ┆ 2296.45 ┆ 2285.39 ┆ 2293.4 ┆ 1720.7 ┆ crypto ┆ ETH    ┆ 15min ┆ 2024 ┆ 1     │\n",
       "│ -01 00: ┆         ┆         ┆         ┆ 4      ┆ 00805  ┆        ┆        ┆       ┆      ┆       │\n",
       "│ 30:00   ┆         ┆         ┆         ┆        ┆        ┆        ┆        ┆       ┆      ┆       │\n",
       "│ UTC     ┆         ┆         ┆         ┆        ┆        ┆        ┆        ┆       ┆      ┆       │\n",
       "│ 2024-01 ┆ 2293.4  ┆ 2300.15 ┆ 2292.17 ┆ 2295.6 ┆ 486.11 ┆ crypto ┆ ETH    ┆ 15min ┆ 2024 ┆ 1     │\n",
       "│ -01 00: ┆         ┆         ┆         ┆        ┆ 5193   ┆        ┆        ┆       ┆      ┆       │\n",
       "│ 45:00   ┆         ┆         ┆         ┆        ┆        ┆        ┆        ┆       ┆      ┆       │\n",
       "│ UTC     ┆         ┆         ┆         ┆        ┆        ┆        ┆        ┆       ┆      ┆       │\n",
       "│ 2024-01 ┆ 2295.57 ┆ 2300.95 ┆ 2292.08 ┆ 2296.7 ┆ 720.14 ┆ crypto ┆ ETH    ┆ 15min ┆ 2024 ┆ 1     │\n",
       "│ -01 01: ┆         ┆         ┆         ┆ 7      ┆ 9303   ┆        ┆        ┆       ┆      ┆       │\n",
       "│ 00:00   ┆         ┆         ┆         ┆        ┆        ┆        ┆        ┆       ┆      ┆       │\n",
       "│ UTC     ┆         ┆         ┆         ┆        ┆        ┆        ┆        ┆       ┆      ┆       │\n",
       "└─────────┴─────────┴─────────┴─────────┴────────┴────────┴────────┴────────┴───────┴──────┴───────┘"
      ]
     },
     "execution_count": 21,
     "metadata": {},
     "output_type": "execute_result"
    }
   ],
   "source": [
    "# Cell 11: Lazy scan across all months with optional UTC window\n",
    "scan_pattern = str(\n",
    "    LAKE_ROOT\n",
    "    / f\"asset_class={asset_class}\"\n",
    "    / f\"freq={freq}\"\n",
    "    / f\"symbol={symbol}\"\n",
    "    / \"year=*\"\n",
    "    / \"month=*\"\n",
    "    / \"part.parquet\"\n",
    ")\n",
    "\n",
    "lf = pl.scan_parquet(scan_pattern, hive_partitioning=True)\n",
    "\n",
    "lf_filtered = (\n",
    "    lf.filter(pl.col(\"ts\").is_between(pl.lit(date_start.to_pydatetime()), pl.lit(date_end.to_pydatetime())))\n",
    "    if date_start is not None and date_end is not None\n",
    "    else lf\n",
    ")\n",
    "\n",
    "slice_df = (\n",
    "    lf_filtered\n",
    "    .sort(\"ts\")\n",
    "    .limit(1000)\n",
    ").collect()\n",
    "\n",
    "slice_df.head()\n"
   ]
  },
  {
   "cell_type": "code",
   "execution_count": 22,
   "id": "50fa4c52",
   "metadata": {},
   "outputs": [
    {
     "data": {
      "image/png": "[encoded data removed]",
      "text/plain": [
       "<Figure size 1000x400 with 1 Axes>"
      ]
     },
     "metadata": {
      "image/png": {
       "height": 388,
       "width": 990
      }
     },
     "output_type": "display_data"
    }
   ],
   "source": [
    "# Cell 12: Daily last close plot with correct anchor\n",
    "# Crypto: daily anchored to UTC\n",
    "# Non-crypto (fx, index, etf, equity, futures): daily anchored to America/New_York\n",
    "\n",
    "def daily_last_from_intraday(frame: pl.DataFrame, asset_class: str) -> pl.DataFrame:\n",
    "    if asset_class == \"crypto\":\n",
    "        daily = (\n",
    "            frame.group_by_dynamic(index_column=\"ts\", every=\"1d\", closed=\"left\")\n",
    "                 .agg(pl.col(\"close\").last().alias(\"close\"))\n",
    "                 .sort(\"ts\")\n",
    "        )\n",
    "        return daily\n",
    "    else:\n",
    "        # Convert to ET to anchor windowing, then convert labels back to UTC for consistency\n",
    "        frame_et = frame.with_columns(pl.col(\"ts\").dt.convert_time_zone(\"America/New_York\"))\n",
    "        daily_et = (\n",
    "            frame_et.group_by_dynamic(index_column=\"ts\", every=\"1d\", closed=\"left\")\n",
    "                    .agg(pl.col(\"close\").last().alias(\"close\"))\n",
    "                    .sort(\"ts\")\n",
    "        )\n",
    "        daily = daily_et.with_columns(pl.col(\"ts\").dt.convert_time_zone(\"UTC\"))\n",
    "        return daily\n",
    "\n",
    "daily = daily_last_from_intraday(df, asset_class=asset_class)\n",
    "\n",
    "# Plot\n",
    "daily_pd = daily.to_pandas()\n",
    "plt.figure(figsize=(10, 4))\n",
    "plt.plot(daily_pd[\"ts\"], daily_pd[\"close\"])\n",
    "plt.title(f\"{symbol} daily last from {freq} ({'UTC' if asset_class=='crypto' else 'NY-anchored, labels UTC'})\")\n",
    "plt.xlabel(\"timestamp\")\n",
    "plt.ylabel(\"close\")\n",
    "plt.tight_layout()\n"
   ]
  },
  {
   "cell_type": "code",
   "execution_count": 24,
   "id": "d6785ea7",
   "metadata": {},
   "outputs": [
    {
     "data": {
      "text/html": [
       "<div>\n",
       "<style scoped>\n",
       "    .dataframe tbody tr th:only-of-type {\n",
       "        vertical-align: middle;\n",
       "    }\n",
       "\n",
       "    .dataframe tbody tr th {\n",
       "        vertical-align: top;\n",
       "    }\n",
       "\n",
       "    .dataframe thead th {\n",
       "        text-align: right;\n",
       "    }\n",
       "</style>\n",
       "<table border=\"1\" class=\"dataframe\">\n",
       "  <thead>\n",
       "    <tr style=\"text-align: right;\">\n",
       "      <th></th>\n",
       "      <th>close</th>\n",
       "      <th>logret</th>\n",
       "      <th>vol20</th>\n",
       "    </tr>\n",
       "    <tr>\n",
       "      <th>ts</th>\n",
       "      <th></th>\n",
       "      <th></th>\n",
       "      <th></th>\n",
       "    </tr>\n",
       "  </thead>\n",
       "  <tbody>\n",
       "    <tr>\n",
       "      <th>2025-07-07 00:00:00+00:00</th>\n",
       "      <td>2542.38</td>\n",
       "      <td>-0.011132</td>\n",
       "      <td>NaN</td>\n",
       "    </tr>\n",
       "    <tr>\n",
       "      <th>2025-07-08 00:00:00+00:00</th>\n",
       "      <td>2615.74</td>\n",
       "      <td>0.028446</td>\n",
       "      <td>NaN</td>\n",
       "    </tr>\n",
       "    <tr>\n",
       "      <th>2025-07-09 00:00:00+00:00</th>\n",
       "      <td>2769.83</td>\n",
       "      <td>0.057239</td>\n",
       "      <td>NaN</td>\n",
       "    </tr>\n",
       "    <tr>\n",
       "      <th>2025-07-10 00:00:00+00:00</th>\n",
       "      <td>2951.10</td>\n",
       "      <td>0.063392</td>\n",
       "      <td>NaN</td>\n",
       "    </tr>\n",
       "    <tr>\n",
       "      <th>2025-07-11 00:00:00+00:00</th>\n",
       "      <td>2959.12</td>\n",
       "      <td>0.002714</td>\n",
       "      <td>NaN</td>\n",
       "    </tr>\n",
       "    <tr>\n",
       "      <th>2025-07-12 00:00:00+00:00</th>\n",
       "      <td>2942.64</td>\n",
       "      <td>-0.005585</td>\n",
       "      <td>NaN</td>\n",
       "    </tr>\n",
       "    <tr>\n",
       "      <th>2025-07-13 00:00:00+00:00</th>\n",
       "      <td>2973.38</td>\n",
       "      <td>0.010392</td>\n",
       "      <td>NaN</td>\n",
       "    </tr>\n",
       "    <tr>\n",
       "      <th>2025-07-14 00:00:00+00:00</th>\n",
       "      <td>3014.53</td>\n",
       "      <td>0.013745</td>\n",
       "      <td>NaN</td>\n",
       "    </tr>\n",
       "    <tr>\n",
       "      <th>2025-07-15 00:00:00+00:00</th>\n",
       "      <td>3138.01</td>\n",
       "      <td>0.040145</td>\n",
       "      <td>NaN</td>\n",
       "    </tr>\n",
       "    <tr>\n",
       "      <th>2025-07-16 00:00:00+00:00</th>\n",
       "      <td>3373.12</td>\n",
       "      <td>0.072249</td>\n",
       "      <td>NaN</td>\n",
       "    </tr>\n",
       "    <tr>\n",
       "      <th>2025-07-17 00:00:00+00:00</th>\n",
       "      <td>3479.33</td>\n",
       "      <td>0.031002</td>\n",
       "      <td>NaN</td>\n",
       "    </tr>\n",
       "    <tr>\n",
       "      <th>2025-07-18 00:00:00+00:00</th>\n",
       "      <td>3549.67</td>\n",
       "      <td>0.020015</td>\n",
       "      <td>NaN</td>\n",
       "    </tr>\n",
       "    <tr>\n",
       "      <th>2025-07-19 00:00:00+00:00</th>\n",
       "      <td>3594.30</td>\n",
       "      <td>0.012495</td>\n",
       "      <td>NaN</td>\n",
       "    </tr>\n",
       "    <tr>\n",
       "      <th>2025-07-20 00:00:00+00:00</th>\n",
       "      <td>3758.60</td>\n",
       "      <td>0.044697</td>\n",
       "      <td>NaN</td>\n",
       "    </tr>\n",
       "    <tr>\n",
       "      <th>2025-07-21 00:00:00+00:00</th>\n",
       "      <td>3763.75</td>\n",
       "      <td>0.001369</td>\n",
       "      <td>0.444926</td>\n",
       "    </tr>\n",
       "    <tr>\n",
       "      <th>2025-07-22 00:00:00+00:00</th>\n",
       "      <td>3748.62</td>\n",
       "      <td>-0.004028</td>\n",
       "      <td>0.421781</td>\n",
       "    </tr>\n",
       "    <tr>\n",
       "      <th>2025-07-23 00:00:00+00:00</th>\n",
       "      <td>3630.34</td>\n",
       "      <td>-0.032061</td>\n",
       "      <td>0.457914</td>\n",
       "    </tr>\n",
       "    <tr>\n",
       "      <th>2025-07-24 00:00:00+00:00</th>\n",
       "      <td>3708.60</td>\n",
       "      <td>0.021328</td>\n",
       "      <td>0.418923</td>\n",
       "    </tr>\n",
       "    <tr>\n",
       "      <th>2025-07-25 00:00:00+00:00</th>\n",
       "      <td>3725.84</td>\n",
       "      <td>0.004638</td>\n",
       "      <td>0.418244</td>\n",
       "    </tr>\n",
       "    <tr>\n",
       "      <th>2025-07-26 00:00:00+00:00</th>\n",
       "      <td>3740.47</td>\n",
       "      <td>0.003919</td>\n",
       "      <td>0.421859</td>\n",
       "    </tr>\n",
       "  </tbody>\n",
       "</table>\n",
       "</div>"
      ],
      "text/plain": [
       "                             close    logret     vol20\n",
       "ts                                                    \n",
       "2025-07-07 00:00:00+00:00  2542.38 -0.011132       NaN\n",
       "2025-07-08 00:00:00+00:00  2615.74  0.028446       NaN\n",
       "2025-07-09 00:00:00+00:00  2769.83  0.057239       NaN\n",
       "2025-07-10 00:00:00+00:00  2951.10  0.063392       NaN\n",
       "2025-07-11 00:00:00+00:00  2959.12  0.002714       NaN\n",
       "2025-07-12 00:00:00+00:00  2942.64 -0.005585       NaN\n",
       "2025-07-13 00:00:00+00:00  2973.38  0.010392       NaN\n",
       "2025-07-14 00:00:00+00:00  3014.53  0.013745       NaN\n",
       "2025-07-15 00:00:00+00:00  3138.01  0.040145       NaN\n",
       "2025-07-16 00:00:00+00:00  3373.12  0.072249       NaN\n",
       "2025-07-17 00:00:00+00:00  3479.33  0.031002       NaN\n",
       "2025-07-18 00:00:00+00:00  3549.67  0.020015       NaN\n",
       "2025-07-19 00:00:00+00:00  3594.30  0.012495       NaN\n",
       "2025-07-20 00:00:00+00:00  3758.60  0.044697       NaN\n",
       "2025-07-21 00:00:00+00:00  3763.75  0.001369  0.444926\n",
       "2025-07-22 00:00:00+00:00  3748.62 -0.004028  0.421781\n",
       "2025-07-23 00:00:00+00:00  3630.34 -0.032061  0.457914\n",
       "2025-07-24 00:00:00+00:00  3708.60  0.021328  0.418923\n",
       "2025-07-25 00:00:00+00:00  3725.84  0.004638  0.418244\n",
       "2025-07-26 00:00:00+00:00  3740.47  0.003919  0.421859"
      ]
     },
     "metadata": {},
     "output_type": "display_data"
    }
   ],
   "source": [
    "import numpy as np\n",
    "\n",
    "# Cell 13: Simple returns and rolling volatility diagnostics\n",
    "# Computes log returns on close and a rolling 20-day volatility on the daily series\n",
    "\n",
    "daily_pd = daily.to_pandas()  # already created above\n",
    "daily_pd.set_index(\"ts\", inplace=True)\n",
    "daily_pd.index = pd.to_datetime(daily_pd.index, utc=True)\n",
    "\n",
    "daily_pd[\"logret\"] = (daily_pd[\"close\"].astype(\"float64\")).apply(pd.Series).pct_change().add(1).apply(np.log)  # robust log return\n",
    "# Replace the above with a safer direct computation to avoid chained dtype issues:\n",
    "\n",
    "close_values = daily_pd[\"close\"].astype(\"float64\").values\n",
    "logret = np.empty_like(close_values)\n",
    "logret[:] = np.nan\n",
    "logret[1:] = np.log(close_values[1:] / close_values[:-1])\n",
    "daily_pd[\"logret\"] = logret\n",
    "\n",
    "# 20-day rolling volatility (annualized, sqrt(252))\n",
    "daily_pd[\"vol20\"] = pd.Series(daily_pd[\"logret\"]).rolling(20).std() * np.sqrt(252)\n",
    "\n",
    "display(daily_pd[[\"close\", \"logret\", \"vol20\"]].tail(20))\n"
   ]
  },
  {
   "cell_type": "code",
   "execution_count": null,
   "id": "ee3f9607",
   "metadata": {},
   "outputs": [],
   "source": []
  }
 ],
 "metadata": {
  "kernelspec": {
   "display_name": "venv",
   "language": "python",
   "name": "python3"
  },
  "language_info": {
   "codemirror_mode": {
    "name": "ipython",
    "version": 3
   },
   "file_extension": ".py",
   "mimetype": "text/x-python",
   "name": "python",
   "nbconvert_exporter": "python",
   "pygments_lexer": "ipython3",
   "version": "3.11.10"
  }
 },
 "nbformat": 4,
 "nbformat_minor": 5
}
