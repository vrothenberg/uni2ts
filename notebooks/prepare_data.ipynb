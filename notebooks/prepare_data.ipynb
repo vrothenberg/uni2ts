{
 "cells": [
  {
   "cell_type": "code",
   "execution_count": 2,
   "id": "initial_id",
   "metadata": {
    "ExecuteTime": {
     "end_time": "2024-03-04T03:50:16.509839Z",
     "start_time": "2024-03-04T03:50:15.142871Z"
    },
    "collapsed": true
   },
   "outputs": [],
   "source": [
    "from collections.abc import Generator\n",
    "from pathlib import Path\n",
    "from typing import Any\n",
    "\n",
    "import datasets\n",
    "import pandas as pd\n",
    "from datasets import Features, Sequence, Value"
   ]
  },
  {
   "cell_type": "markdown",
   "id": "9f34a16f27f22b43",
   "metadata": {
    "collapsed": false
   },
   "source": [
    "# 1. Prepare a univariate dataset for pre-training/fine-tuning\n",
    "In this example, we will see how to use the Hugging Face ```datasets``` library to prepare your custom datasets to use with ```uni2ts```. "
   ]
  },
  {
   "cell_type": "markdown",
   "id": "dc1c2c097dec4da4",
   "metadata": {
    "collapsed": false
   },
   "source": [
    "Firstly, we load our data which comes in the form of a wide dataframe. Here, each column represents a _univariate_ time series."
   ]
  },
  {
   "cell_type": "code",
   "execution_count": 14,
   "id": "78f79007648fce3e",
   "metadata": {
    "ExecuteTime": {
     "end_time": "2024-03-04T03:50:17.065776Z",
     "start_time": "2024-03-04T03:50:16.509178Z"
    },
    "collapsed": false
   },
   "outputs": [
    {
     "data": {
      "text/html": [
       "<div>\n",
       "<style scoped>\n",
       "    .dataframe tbody tr th:only-of-type {\n",
       "        vertical-align: middle;\n",
       "    }\n",
       "\n",
       "    .dataframe tbody tr th {\n",
       "        vertical-align: top;\n",
       "    }\n",
       "\n",
       "    .dataframe thead th {\n",
       "        text-align: right;\n",
       "    }\n",
       "</style>\n",
       "<table border=\"1\" class=\"dataframe\">\n",
       "  <thead>\n",
       "    <tr style=\"text-align: right;\">\n",
       "      <th></th>\n",
       "      <th>A</th>\n",
       "      <th>B</th>\n",
       "      <th>C</th>\n",
       "      <th>D</th>\n",
       "      <th>E</th>\n",
       "      <th>F</th>\n",
       "      <th>G</th>\n",
       "      <th>H</th>\n",
       "      <th>I</th>\n",
       "      <th>J</th>\n",
       "    </tr>\n",
       "  </thead>\n",
       "  <tbody>\n",
       "    <tr>\n",
       "      <th>2021-01-01 00:00:00</th>\n",
       "      <td>-1.3378</td>\n",
       "      <td>0.1268</td>\n",
       "      <td>-0.3645</td>\n",
       "      <td>-1.0864</td>\n",
       "      <td>-2.3803</td>\n",
       "      <td>-0.2447</td>\n",
       "      <td>2.2647</td>\n",
       "      <td>-0.7917</td>\n",
       "      <td>0.7071</td>\n",
       "      <td>1.3763</td>\n",
       "    </tr>\n",
       "    <tr>\n",
       "      <th>2021-01-01 01:00:00</th>\n",
       "      <td>-1.6111</td>\n",
       "      <td>0.0926</td>\n",
       "      <td>-0.1364</td>\n",
       "      <td>-1.1613</td>\n",
       "      <td>-2.1421</td>\n",
       "      <td>-0.3477</td>\n",
       "      <td>2.4262</td>\n",
       "      <td>-0.9609</td>\n",
       "      <td>0.6413</td>\n",
       "      <td>1.2750</td>\n",
       "    </tr>\n",
       "    <tr>\n",
       "      <th>2021-01-01 02:00:00</th>\n",
       "      <td>-1.9259</td>\n",
       "      <td>-0.1420</td>\n",
       "      <td>0.1063</td>\n",
       "      <td>-1.0405</td>\n",
       "      <td>-2.1426</td>\n",
       "      <td>-0.3271</td>\n",
       "      <td>2.4434</td>\n",
       "      <td>-0.9034</td>\n",
       "      <td>0.4323</td>\n",
       "      <td>0.6767</td>\n",
       "    </tr>\n",
       "    <tr>\n",
       "      <th>2021-01-01 03:00:00</th>\n",
       "      <td>-1.9184</td>\n",
       "      <td>-0.4930</td>\n",
       "      <td>0.6269</td>\n",
       "      <td>-0.8531</td>\n",
       "      <td>-1.7060</td>\n",
       "      <td>-0.3088</td>\n",
       "      <td>2.4307</td>\n",
       "      <td>-0.9602</td>\n",
       "      <td>0.3193</td>\n",
       "      <td>0.5150</td>\n",
       "    </tr>\n",
       "    <tr>\n",
       "      <th>2021-01-01 04:00:00</th>\n",
       "      <td>-1.9168</td>\n",
       "      <td>-0.5057</td>\n",
       "      <td>0.9419</td>\n",
       "      <td>-0.7666</td>\n",
       "      <td>-1.4287</td>\n",
       "      <td>-0.4284</td>\n",
       "      <td>2.3258</td>\n",
       "      <td>-1.2504</td>\n",
       "      <td>0.3660</td>\n",
       "      <td>0.1708</td>\n",
       "    </tr>\n",
       "  </tbody>\n",
       "</table>\n",
       "</div>"
      ],
      "text/plain": [
       "                          A       B       C       D       E       F       G  \\\n",
       "2021-01-01 00:00:00 -1.3378  0.1268 -0.3645 -1.0864 -2.3803 -0.2447  2.2647   \n",
       "2021-01-01 01:00:00 -1.6111  0.0926 -0.1364 -1.1613 -2.1421 -0.3477  2.4262   \n",
       "2021-01-01 02:00:00 -1.9259 -0.1420  0.1063 -1.0405 -2.1426 -0.3271  2.4434   \n",
       "2021-01-01 03:00:00 -1.9184 -0.4930  0.6269 -0.8531 -1.7060 -0.3088  2.4307   \n",
       "2021-01-01 04:00:00 -1.9168 -0.5057  0.9419 -0.7666 -1.4287 -0.4284  2.3258   \n",
       "\n",
       "                          H       I       J  \n",
       "2021-01-01 00:00:00 -0.7917  0.7071  1.3763  \n",
       "2021-01-01 01:00:00 -0.9609  0.6413  1.2750  \n",
       "2021-01-01 02:00:00 -0.9034  0.4323  0.6767  \n",
       "2021-01-01 03:00:00 -0.9602  0.3193  0.5150  \n",
       "2021-01-01 04:00:00 -1.2504  0.3660  0.1708  "
      ]
     },
     "execution_count": 14,
     "metadata": {},
     "output_type": "execute_result"
    }
   ],
   "source": [
    "# Load dataframe\n",
    "url_wide = (\n",
    "    \"https://gist.githubusercontent.com/rsnirwan/c8c8654a98350fadd229b00167174ec4\"\n",
    "    \"/raw/a42101c7786d4bc7695228a0f2c8cea41340e18f/ts_wide.csv\"\n",
    ")\n",
    "df = pd.read_csv(url_wide, index_col=0, parse_dates=True)\n",
    "\n",
    "df.head()"
   ]
  },
  {
   "cell_type": "code",
   "execution_count": 4,
   "id": "568da4ad",
   "metadata": {},
   "outputs": [],
   "source": [
    "from data_loader import read_parquet_hive\n",
    "\n",
    "# Cell 2: Parameters\n",
    "LAKE_ROOT = Path(\"/home/dev/data/ohlcv\")\n",
    "\n",
    "asset_class = \"crypto\"   # one of: crypto, fx, index, etf, equity, futures\n",
    "symbol = \"ETH\"           # e.g., ETH, BTC, USDJPY, SPY, AAPL\n",
    "freq = \"15min\"           # one of: 1min, 15min, 1h, 4h, 1d\n",
    "\n",
    "# Optional partition narrowing\n",
    "year = 2025              # set to None to read all years\n",
    "month = 7                # set to None to read all months\n",
    "\n",
    "# Optional lazy-scan date filter window (UTC)\n",
    "date_start = pd.Timestamp(\"2024-01-01\", tz=\"UTC\")\n",
    "date_end   = pd.Timestamp(\"2024-04-01\", tz=\"UTC\")\n"
   ]
  },
  {
   "cell_type": "code",
   "execution_count": 6,
   "id": "b321f415",
   "metadata": {},
   "outputs": [
    {
     "data": {
      "text/html": [
       "<div><style>\n",
       ".dataframe > thead > tr,\n",
       ".dataframe > tbody > tr {\n",
       "  text-align: right;\n",
       "  white-space: pre-wrap;\n",
       "}\n",
       "</style>\n",
       "<small>shape: (5, 8)</small><table border=\"1\" class=\"dataframe\"><thead><tr><th>ts</th><th>open</th><th>high</th><th>low</th><th>close</th><th>volume</th><th>asset_class</th><th>symbol</th></tr><tr><td>datetime[μs, UTC]</td><td>f64</td><td>f64</td><td>f64</td><td>f64</td><td>f64</td><td>str</td><td>str</td></tr></thead><tbody><tr><td>2025-07-01 00:00:00 UTC</td><td>2486.16</td><td>2496.4</td><td>2485.38</td><td>2493.36</td><td>1151.93403</td><td>&quot;crypto&quot;</td><td>&quot;ETH&quot;</td></tr><tr><td>2025-07-01 00:15:00 UTC</td><td>2493.43</td><td>2498.5</td><td>2485.0</td><td>2485.15</td><td>650.784791</td><td>&quot;crypto&quot;</td><td>&quot;ETH&quot;</td></tr><tr><td>2025-07-01 00:30:00 UTC</td><td>2485.25</td><td>2490.5</td><td>2477.72</td><td>2489.4</td><td>1360.341981</td><td>&quot;crypto&quot;</td><td>&quot;ETH&quot;</td></tr><tr><td>2025-07-01 00:45:00 UTC</td><td>2489.47</td><td>2496.2</td><td>2489.3</td><td>2493.94</td><td>592.136844</td><td>&quot;crypto&quot;</td><td>&quot;ETH&quot;</td></tr><tr><td>2025-07-01 01:00:00 UTC</td><td>2493.89</td><td>2499.9</td><td>2491.0</td><td>2499.36</td><td>685.831934</td><td>&quot;crypto&quot;</td><td>&quot;ETH&quot;</td></tr></tbody></table></div>"
      ],
      "text/plain": [
       "shape: (5, 8)\n",
       "┌──────────────────────┬─────────┬────────┬─────────┬─────────┬─────────────┬─────────────┬────────┐\n",
       "│ ts                   ┆ open    ┆ high   ┆ low     ┆ close   ┆ volume      ┆ asset_class ┆ symbol │\n",
       "│ ---                  ┆ ---     ┆ ---    ┆ ---     ┆ ---     ┆ ---         ┆ ---         ┆ ---    │\n",
       "│ datetime[μs, UTC]    ┆ f64     ┆ f64    ┆ f64     ┆ f64     ┆ f64         ┆ str         ┆ str    │\n",
       "╞══════════════════════╪═════════╪════════╪═════════╪═════════╪═════════════╪═════════════╪════════╡\n",
       "│ 2025-07-01 00:00:00  ┆ 2486.16 ┆ 2496.4 ┆ 2485.38 ┆ 2493.36 ┆ 1151.93403  ┆ crypto      ┆ ETH    │\n",
       "│ UTC                  ┆         ┆        ┆         ┆         ┆             ┆             ┆        │\n",
       "│ 2025-07-01 00:15:00  ┆ 2493.43 ┆ 2498.5 ┆ 2485.0  ┆ 2485.15 ┆ 650.784791  ┆ crypto      ┆ ETH    │\n",
       "│ UTC                  ┆         ┆        ┆         ┆         ┆             ┆             ┆        │\n",
       "│ 2025-07-01 00:30:00  ┆ 2485.25 ┆ 2490.5 ┆ 2477.72 ┆ 2489.4  ┆ 1360.341981 ┆ crypto      ┆ ETH    │\n",
       "│ UTC                  ┆         ┆        ┆         ┆         ┆             ┆             ┆        │\n",
       "│ 2025-07-01 00:45:00  ┆ 2489.47 ┆ 2496.2 ┆ 2489.3  ┆ 2493.94 ┆ 592.136844  ┆ crypto      ┆ ETH    │\n",
       "│ UTC                  ┆         ┆        ┆         ┆         ┆             ┆             ┆        │\n",
       "│ 2025-07-01 01:00:00  ┆ 2493.89 ┆ 2499.9 ┆ 2491.0  ┆ 2499.36 ┆ 685.831934  ┆ crypto      ┆ ETH    │\n",
       "│ UTC                  ┆         ┆        ┆         ┆         ┆             ┆             ┆        │\n",
       "└──────────────────────┴─────────┴────────┴─────────┴─────────┴─────────────┴─────────────┴────────┘"
      ]
     },
     "execution_count": 6,
     "metadata": {},
     "output_type": "execute_result"
    }
   ],
   "source": [
    "# Cell 4: Load a partition and sort\n",
    "df = read_parquet_hive(\n",
    "    LAKE_ROOT,\n",
    "    asset_class=asset_class,\n",
    "    symbol=symbol,\n",
    "    freq=freq,\n",
    "    year=year,\n",
    "    month=month,\n",
    ")\n",
    "df = df.sort(\"ts\")\n",
    "\n",
    "df.head()\n"
   ]
  },
  {
   "cell_type": "markdown",
   "id": "9f1c2c81076c49d0",
   "metadata": {
    "collapsed": false
   },
   "source": [
    "### Method 1: Example generator function\n",
    "1. Create an example generator function, a function which yields each individual time series. Each time series consists of \n",
    "    1. target: target time series that should be predicted\n",
    "    2. start: timestamp of the first time step\n",
    "    3. freq: frequency str of time series\n",
    "    4. item_id: identifier \n",
    "    5. (optional) past_feat_dynamic_real: time series for which only the context values are known\n",
    "    6. (optional) feat_dynamic_real: time series for which the context and prediction values are known\n",
    "2. Define the schema for the features to ensure the datasets library saves the correct data types.\n",
    "3. Write the data to disk using the ```from_generator``` function."
   ]
  },
  {
   "cell_type": "code",
   "execution_count": 11,
   "id": "5896a61701815d0",
   "metadata": {
    "ExecuteTime": {
     "end_time": "2024-03-04T03:50:17.076282Z",
     "start_time": "2024-03-04T03:50:17.070158Z"
    },
    "collapsed": false
   },
   "outputs": [],
   "source": [
    "def example_gen_func() -> Generator[dict[str, Any]]:\n",
    "    for i in range(len(df.columns)):\n",
    "        yield {\n",
    "            \"target\": df.iloc[:, i].to_numpy(),  # array of shape (time,)\n",
    "            \"start\": df.index[0],\n",
    "            \"freq\": pd.infer_freq(df.index),\n",
    "            \"item_id\": f\"item_{i}\",\n",
    "        }"
   ]
  },
  {
   "cell_type": "code",
   "execution_count": 12,
   "id": "997f68f06ba2ccab",
   "metadata": {
    "ExecuteTime": {
     "end_time": "2024-03-04T03:50:17.085665Z",
     "start_time": "2024-03-04T03:50:17.076412Z"
    },
    "collapsed": false
   },
   "outputs": [],
   "source": [
    "features = Features(\n",
    "    dict(\n",
    "        target=Sequence(Value(\"float32\")),\n",
    "        start=Value(\"timestamp[s]\"),\n",
    "        freq=Value(\"string\"),\n",
    "        item_id=Value(\"string\"),\n",
    "    )\n",
    ")"
   ]
  },
  {
   "cell_type": "code",
   "execution_count": 13,
   "id": "86f35b94bc7a24c5",
   "metadata": {
    "ExecuteTime": {
     "end_time": "2024-03-04T03:50:17.302514Z",
     "start_time": "2024-03-04T03:50:17.083682Z"
    },
    "collapsed": false
   },
   "outputs": [
    {
     "data": {
      "application/vnd.jupyter.widget-view+json": {
       "model_id": "f85968ab156f41ac9c87fe7cc37a91a2",
       "version_major": 2,
       "version_minor": 0
      },
      "text/plain": [
       "Generating train split: 0 examples [00:00, ? examples/s]"
      ]
     },
     "metadata": {},
     "output_type": "display_data"
    },
    {
     "data": {
      "application/vnd.jupyter.widget-view+json": {
       "model_id": "2f229cca19434539aa610a810a3aad54",
       "version_major": 2,
       "version_minor": 0
      },
      "text/plain": [
       "Saving the dataset (0/1 shards):   0%|          | 0/10 [00:00<?, ? examples/s]"
      ]
     },
     "metadata": {},
     "output_type": "display_data"
    }
   ],
   "source": [
    "hf_dataset = datasets.Dataset.from_generator(example_gen_func, features=features)\n",
    "hf_dataset.save_to_disk(Path(\"example_dataset_1\"))"
   ]
  },
  {
   "cell_type": "markdown",
   "id": "2dd48d9ebaceaf6d",
   "metadata": {
    "collapsed": false
   },
   "source": [
    "### Method 2: Sharded example generator function\n",
    "For larger datasets, the Hugging Face ```datasets``` library is able to use multiprocessing to speed up the generation of examples. Since the ```from_generator``` function takes as input a generator object which iterates through every example, naively using this function with multiprocessing does not lead to any speed ups. Instead, we need to provide a _sharded_ generator function, which is able to index into the specific examples based on the inputs. See the following example for a simple recipe:"
   ]
  },
  {
   "cell_type": "code",
   "execution_count": 16,
   "id": "d671e1f795f13469",
   "metadata": {
    "ExecuteTime": {
     "end_time": "2024-03-04T03:50:17.303445Z",
     "start_time": "2024-03-04T03:50:17.298395Z"
    },
    "collapsed": false
   },
   "outputs": [],
   "source": [
    "def sharded_example_gen_func(examples: list[int]) -> Generator[dict[str, Any]]:\n",
    "    for i in examples:\n",
    "        yield {\n",
    "            \"target\": df.iloc[:, i].to_numpy(),\n",
    "            \"start\": df.index[0],\n",
    "            \"freq\": pd.infer_freq(df.index),\n",
    "            \"item_id\": f\"item_{i}\",\n",
    "        }"
   ]
  },
  {
   "cell_type": "code",
   "execution_count": 17,
   "id": "c99799fcfd02d50",
   "metadata": {
    "ExecuteTime": {
     "end_time": "2024-03-04T03:50:17.314350Z",
     "start_time": "2024-03-04T03:50:17.305057Z"
    },
    "collapsed": false
   },
   "outputs": [],
   "source": [
    "features = Features(\n",
    "    dict(\n",
    "        target=Sequence(Value(\"float32\")),\n",
    "        start=Value(\"timestamp[s]\"),\n",
    "        freq=Value(\"string\"),\n",
    "        item_id=Value(\"string\"),\n",
    "    )\n",
    ")"
   ]
  },
  {
   "cell_type": "code",
   "execution_count": 18,
   "id": "f9c72d1c2f52d98f",
   "metadata": {
    "ExecuteTime": {
     "end_time": "2024-03-04T03:50:17.521901Z",
     "start_time": "2024-03-04T03:50:17.313886Z"
    },
    "collapsed": false
   },
   "outputs": [
    {
     "data": {
      "application/vnd.jupyter.widget-view+json": {
       "model_id": "823c310cd4d84711a59cb8e9d36692b5",
       "version_major": 2,
       "version_minor": 0
      },
      "text/plain": [
       "Generating train split: 0 examples [00:00, ? examples/s]"
      ]
     },
     "metadata": {},
     "output_type": "display_data"
    },
    {
     "data": {
      "application/vnd.jupyter.widget-view+json": {
       "model_id": "5b5f5a17d7614ce797e1ee53c4a1710c",
       "version_major": 2,
       "version_minor": 0
      },
      "text/plain": [
       "Saving the dataset (0/1 shards):   0%|          | 0/10 [00:00<?, ? examples/s]"
      ]
     },
     "metadata": {},
     "output_type": "display_data"
    }
   ],
   "source": [
    "hf_dataset = datasets.Dataset.from_generator(\n",
    "    sharded_example_gen_func,\n",
    "    features=features,\n",
    "    gen_kwargs={\"examples\": [i for i in range(len(df.columns))]},\n",
    "    num_proc=2,\n",
    ")\n",
    "hf_dataset.save_to_disk(Path(\"example_dataset_2\"))"
   ]
  },
  {
   "cell_type": "markdown",
   "id": "da2f641ee996d4b",
   "metadata": {
    "collapsed": false
   },
   "source": [
    "# 2. Prepare a multivariate dataset for pre-training/fine-tuning\n",
    "Finally, we can also prepare _multivariate_ time series:"
   ]
  },
  {
   "cell_type": "code",
   "execution_count": 19,
   "id": "4c04c75fe20ee30f",
   "metadata": {
    "ExecuteTime": {
     "end_time": "2024-03-04T03:50:17.810219Z",
     "start_time": "2024-03-04T03:50:17.523551Z"
    },
    "collapsed": false
   },
   "outputs": [
    {
     "data": {
      "text/html": [
       "<div>\n",
       "<style scoped>\n",
       "    .dataframe tbody tr th:only-of-type {\n",
       "        vertical-align: middle;\n",
       "    }\n",
       "\n",
       "    .dataframe tbody tr th {\n",
       "        vertical-align: top;\n",
       "    }\n",
       "\n",
       "    .dataframe thead th {\n",
       "        text-align: right;\n",
       "    }\n",
       "</style>\n",
       "<table border=\"1\" class=\"dataframe\">\n",
       "  <thead>\n",
       "    <tr style=\"text-align: right;\">\n",
       "      <th></th>\n",
       "      <th>A</th>\n",
       "      <th>B</th>\n",
       "      <th>C</th>\n",
       "      <th>D</th>\n",
       "      <th>E</th>\n",
       "      <th>F</th>\n",
       "      <th>G</th>\n",
       "      <th>H</th>\n",
       "      <th>I</th>\n",
       "      <th>J</th>\n",
       "    </tr>\n",
       "  </thead>\n",
       "  <tbody>\n",
       "    <tr>\n",
       "      <th>2021-01-01 00:00:00</th>\n",
       "      <td>-1.3378</td>\n",
       "      <td>0.1268</td>\n",
       "      <td>-0.3645</td>\n",
       "      <td>-1.0864</td>\n",
       "      <td>-2.3803</td>\n",
       "      <td>-0.2447</td>\n",
       "      <td>2.2647</td>\n",
       "      <td>-0.7917</td>\n",
       "      <td>0.7071</td>\n",
       "      <td>1.3763</td>\n",
       "    </tr>\n",
       "    <tr>\n",
       "      <th>2021-01-01 01:00:00</th>\n",
       "      <td>-1.6111</td>\n",
       "      <td>0.0926</td>\n",
       "      <td>-0.1364</td>\n",
       "      <td>-1.1613</td>\n",
       "      <td>-2.1421</td>\n",
       "      <td>-0.3477</td>\n",
       "      <td>2.4262</td>\n",
       "      <td>-0.9609</td>\n",
       "      <td>0.6413</td>\n",
       "      <td>1.2750</td>\n",
       "    </tr>\n",
       "    <tr>\n",
       "      <th>2021-01-01 02:00:00</th>\n",
       "      <td>-1.9259</td>\n",
       "      <td>-0.1420</td>\n",
       "      <td>0.1063</td>\n",
       "      <td>-1.0405</td>\n",
       "      <td>-2.1426</td>\n",
       "      <td>-0.3271</td>\n",
       "      <td>2.4434</td>\n",
       "      <td>-0.9034</td>\n",
       "      <td>0.4323</td>\n",
       "      <td>0.6767</td>\n",
       "    </tr>\n",
       "    <tr>\n",
       "      <th>2021-01-01 03:00:00</th>\n",
       "      <td>-1.9184</td>\n",
       "      <td>-0.4930</td>\n",
       "      <td>0.6269</td>\n",
       "      <td>-0.8531</td>\n",
       "      <td>-1.7060</td>\n",
       "      <td>-0.3088</td>\n",
       "      <td>2.4307</td>\n",
       "      <td>-0.9602</td>\n",
       "      <td>0.3193</td>\n",
       "      <td>0.5150</td>\n",
       "    </tr>\n",
       "    <tr>\n",
       "      <th>2021-01-01 04:00:00</th>\n",
       "      <td>-1.9168</td>\n",
       "      <td>-0.5057</td>\n",
       "      <td>0.9419</td>\n",
       "      <td>-0.7666</td>\n",
       "      <td>-1.4287</td>\n",
       "      <td>-0.4284</td>\n",
       "      <td>2.3258</td>\n",
       "      <td>-1.2504</td>\n",
       "      <td>0.3660</td>\n",
       "      <td>0.1708</td>\n",
       "    </tr>\n",
       "  </tbody>\n",
       "</table>\n",
       "</div>"
      ],
      "text/plain": [
       "                          A       B       C       D       E       F       G  \\\n",
       "2021-01-01 00:00:00 -1.3378  0.1268 -0.3645 -1.0864 -2.3803 -0.2447  2.2647   \n",
       "2021-01-01 01:00:00 -1.6111  0.0926 -0.1364 -1.1613 -2.1421 -0.3477  2.4262   \n",
       "2021-01-01 02:00:00 -1.9259 -0.1420  0.1063 -1.0405 -2.1426 -0.3271  2.4434   \n",
       "2021-01-01 03:00:00 -1.9184 -0.4930  0.6269 -0.8531 -1.7060 -0.3088  2.4307   \n",
       "2021-01-01 04:00:00 -1.9168 -0.5057  0.9419 -0.7666 -1.4287 -0.4284  2.3258   \n",
       "\n",
       "                          H       I       J  \n",
       "2021-01-01 00:00:00 -0.7917  0.7071  1.3763  \n",
       "2021-01-01 01:00:00 -0.9609  0.6413  1.2750  \n",
       "2021-01-01 02:00:00 -0.9034  0.4323  0.6767  \n",
       "2021-01-01 03:00:00 -0.9602  0.3193  0.5150  \n",
       "2021-01-01 04:00:00 -1.2504  0.3660  0.1708  "
      ]
     },
     "execution_count": 19,
     "metadata": {},
     "output_type": "execute_result"
    }
   ],
   "source": [
    "# Load dataframe\n",
    "url_wide = (\n",
    "    \"https://gist.githubusercontent.com/rsnirwan/c8c8654a98350fadd229b00167174ec4\"\n",
    "    \"/raw/a42101c7786d4bc7695228a0f2c8cea41340e18f/ts_wide.csv\"\n",
    ")\n",
    "df = pd.read_csv(url_wide, index_col=0, parse_dates=True)\n",
    "\n",
    "df.head()"
   ]
  },
  {
   "cell_type": "code",
   "execution_count": 20,
   "id": "33a1928b6f2675c4",
   "metadata": {
    "ExecuteTime": {
     "end_time": "2024-03-04T03:50:17.811072Z",
     "start_time": "2024-03-04T03:50:17.807297Z"
    },
    "collapsed": false
   },
   "outputs": [],
   "source": [
    "def multivar_example_gen_func() -> Generator[dict[str, Any], None, None]:\n",
    "    yield {\n",
    "        \"target\": df.to_numpy().T,  # array of shape (var, time)\n",
    "        \"start\": df.index[0],\n",
    "        \"freq\": pd.infer_freq(df.index),\n",
    "        \"item_id\": \"item_0\",\n",
    "    }"
   ]
  },
  {
   "cell_type": "code",
   "execution_count": 21,
   "id": "310a3121cac37e91",
   "metadata": {
    "ExecuteTime": {
     "end_time": "2024-03-04T03:50:17.820095Z",
     "start_time": "2024-03-04T03:50:17.810447Z"
    },
    "collapsed": false
   },
   "outputs": [],
   "source": [
    "features = Features(\n",
    "    dict(\n",
    "        target=Sequence(\n",
    "            Sequence(Value(\"float32\")), length=len(df.columns)\n",
    "        ),  # multivariate time series are saved as (var, time)\n",
    "        start=Value(\"timestamp[s]\"),\n",
    "        freq=Value(\"string\"),\n",
    "        item_id=Value(\"string\"),\n",
    "    )\n",
    ")"
   ]
  },
  {
   "cell_type": "code",
   "execution_count": 22,
   "id": "a85ece72e58e73ec",
   "metadata": {
    "ExecuteTime": {
     "end_time": "2024-03-04T03:50:17.904014Z",
     "start_time": "2024-03-04T03:50:17.821344Z"
    },
    "collapsed": false
   },
   "outputs": [
    {
     "data": {
      "application/vnd.jupyter.widget-view+json": {
       "model_id": "aba70843a4d942069e02071be331e20f",
       "version_major": 2,
       "version_minor": 0
      },
      "text/plain": [
       "Generating train split: 0 examples [00:00, ? examples/s]"
      ]
     },
     "metadata": {},
     "output_type": "display_data"
    },
    {
     "data": {
      "application/vnd.jupyter.widget-view+json": {
       "model_id": "6d922a6a8a164eedb12679aead954d53",
       "version_major": 2,
       "version_minor": 0
      },
      "text/plain": [
       "Saving the dataset (0/1 shards):   0%|          | 0/1 [00:00<?, ? examples/s]"
      ]
     },
     "metadata": {},
     "output_type": "display_data"
    }
   ],
   "source": [
    "hf_dataset = datasets.Dataset.from_generator(\n",
    "    multivar_example_gen_func, features=features\n",
    ")\n",
    "hf_dataset.save_to_disk(\"example_dataset_multi\")"
   ]
  },
  {
   "cell_type": "markdown",
   "id": "94516da2a373173",
   "metadata": {
    "collapsed": false
   },
   "source": [
    "# 3. Inspecting the processed data\n",
    "Let's inspect the processed datasets to ensure that our data has been processed correctly."
   ]
  },
  {
   "cell_type": "code",
   "execution_count": 23,
   "id": "d38695048216c6b7",
   "metadata": {
    "ExecuteTime": {
     "end_time": "2024-03-04T03:50:17.905592Z",
     "start_time": "2024-03-04T03:50:17.849434Z"
    },
    "collapsed": false
   },
   "outputs": [],
   "source": [
    "# Load datasets with ArrowTableIndexer\n",
    "ds1 = datasets.load_from_disk(\"example_dataset_1\").with_format(\"numpy\")\n",
    "ds2 = datasets.load_from_disk(\"example_dataset_2\").with_format(\"numpy\")\n",
    "ds_multi = datasets.load_from_disk(\"example_dataset_multi\").with_format(\"numpy\")"
   ]
  },
  {
   "cell_type": "markdown",
   "id": "6a4b8a2ce586ac80",
   "metadata": {
    "collapsed": false
   },
   "source": [
    "```example_dataset_1``` and ```example_dataset_2``` are univariate datasets, which should have 10 time series each, and ```example_dataset_multi``` should be a single multivariate time series (with 10 variates). "
   ]
  },
  {
   "cell_type": "code",
   "execution_count": 24,
   "id": "25ddb7ccd8cc92cb",
   "metadata": {
    "ExecuteTime": {
     "end_time": "2024-03-04T03:50:17.925285Z",
     "start_time": "2024-03-04T03:50:17.869949Z"
    },
    "collapsed": false
   },
   "outputs": [
    {
     "data": {
      "text/plain": [
       "(10, 10, 1)"
      ]
     },
     "execution_count": 24,
     "metadata": {},
     "output_type": "execute_result"
    }
   ],
   "source": [
    "len(ds1), len(ds2), len(ds_multi)"
   ]
  },
  {
   "cell_type": "markdown",
   "id": "d7dc1ad99802d749",
   "metadata": {
    "collapsed": false
   },
   "source": [
    "Inspecting the features returned when we index into a time series from the dataset..."
   ]
  },
  {
   "cell_type": "code",
   "execution_count": 25,
   "id": "525d1b0d246d6441",
   "metadata": {
    "ExecuteTime": {
     "end_time": "2024-03-04T03:50:17.926039Z",
     "start_time": "2024-03-04T03:50:17.876550Z"
    },
    "collapsed": false
   },
   "outputs": [
    {
     "data": {
      "text/plain": [
       "(dict_keys(['target', 'start', 'freq', 'item_id']),\n",
       " dict_keys(['target', 'start', 'freq', 'item_id']),\n",
       " dict_keys(['target', 'start', 'freq', 'item_id']))"
      ]
     },
     "execution_count": 25,
     "metadata": {},
     "output_type": "execute_result"
    }
   ],
   "source": [
    "ds1[0].keys(), ds2[0].keys(), ds_multi[0].keys()"
   ]
  },
  {
   "cell_type": "markdown",
   "id": "b8f2b9d043aacf81",
   "metadata": {
    "collapsed": false
   },
   "source": [
    "We should get 2 univariate and 1 multivariate target time series..."
   ]
  },
  {
   "cell_type": "code",
   "execution_count": 26,
   "id": "8ee8290adf1e5475",
   "metadata": {
    "ExecuteTime": {
     "end_time": "2024-03-04T03:50:17.926777Z",
     "start_time": "2024-03-04T03:50:17.887028Z"
    },
    "collapsed": false
   },
   "outputs": [
    {
     "data": {
      "text/plain": [
       "((240,), (240,), (10, 240))"
      ]
     },
     "execution_count": 26,
     "metadata": {},
     "output_type": "execute_result"
    }
   ],
   "source": [
    "ds1[0][\"target\"].shape, ds2[0][\"target\"].shape, ds_multi[0][\"target\"].shape"
   ]
  },
  {
   "cell_type": "code",
   "execution_count": null,
   "id": "427401fd",
   "metadata": {},
   "outputs": [
    {
     "data": {
      "text/plain": [
       "dict_keys(['target', 'start', 'freq', 'item_id'])"
      ]
     },
     "execution_count": 31,
     "metadata": {},
     "output_type": "execute_result"
    }
   ],
   "source": [
    "ds2[0].keys()"
   ]
  },
  {
   "cell_type": "code",
   "execution_count": 38,
   "id": "3192a620",
   "metadata": {},
   "outputs": [
    {
     "data": {
      "text/plain": [
       "array(['item_0', 'item_1', 'item_2', 'item_3', 'item_4', 'item_5',\n",
       "       'item_6', 'item_7', 'item_8', 'item_9'], dtype='<U6')"
      ]
     },
     "execution_count": 38,
     "metadata": {},
     "output_type": "execute_result"
    }
   ],
   "source": [
    "ds2['item_id']"
   ]
  },
  {
   "cell_type": "code",
   "execution_count": 28,
   "id": "60ea9bca",
   "metadata": {},
   "outputs": [
    {
     "data": {
      "text/plain": [
       "{'target': array([[-1.3378, -1.6111, -1.9259, ..., -0.1209, -0.5072, -0.6661],\n",
       "        [ 0.1268,  0.0926, -0.142 , ...,  0.5297,  0.5816,  0.3736],\n",
       "        [-0.3645, -0.1364,  0.1063, ..., -0.7084, -0.5735, -0.5547],\n",
       "        ...,\n",
       "        [-0.7917, -0.9609, -0.9034, ..., -0.6366, -0.5672, -0.913 ],\n",
       "        [ 0.7071,  0.6413,  0.4323, ...,  1.1286,  1.0786,  0.9624],\n",
       "        [ 1.3763,  1.275 ,  0.6767, ...,  1.1485,  1.3248,  1.1657]],\n",
       "       dtype=float32),\n",
       " 'start': array('2021-01-01T00:00:00', dtype='datetime64[s]'),\n",
       " 'freq': 'H',\n",
       " 'item_id': 'item_0'}"
      ]
     },
     "execution_count": 28,
     "metadata": {},
     "output_type": "execute_result"
    }
   ],
   "source": [
    "ds_multi[0]"
   ]
  }
 ],
 "metadata": {
  "kernelspec": {
   "display_name": "venv",
   "language": "python",
   "name": "python3"
  },
  "language_info": {
   "codemirror_mode": {
    "name": "ipython",
    "version": 3
   },
   "file_extension": ".py",
   "mimetype": "text/x-python",
   "name": "python",
   "nbconvert_exporter": "python",
   "pygments_lexer": "ipython3",
   "version": "3.11.10"
  }
 },
 "nbformat": 4,
 "nbformat_minor": 5
}
